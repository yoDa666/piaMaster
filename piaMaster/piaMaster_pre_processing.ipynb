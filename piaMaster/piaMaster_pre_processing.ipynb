{
 "cells": [
  {
   "cell_type": "code",
   "execution_count": 1,
   "id": "1d872dd6",
   "metadata": {},
   "outputs": [],
   "source": [
    "import pandas as pd\n",
    "import pyarrow.parquet as pq\n",
    "import pyarrow as pa\n",
    "import matplotlib.pyplot as plt\n",
    "import seaborn as sns\n",
    "import missingno as msno\n",
    "import json\n",
    "from typing import Union, List\n",
    "import matplotlib.patches as mpatches\n",
    "import scipy.stats as stats\n",
    "import numpy as np\n",
    "from scipy.stats import shapiro\n",
    "import math\n",
    "import matplotlib.ticker as ticker\n",
    "import plotly.express as px\n",
    "\n",
    "sns.set_palette(\"pastel\")"
   ]
  },
  {
   "cell_type": "markdown",
   "id": "bbd5a2e3",
   "metadata": {},
   "source": [
    "## 1. Laden des Rohdatensatzes"
   ]
  },
  {
   "cell_type": "markdown",
   "id": "fdc1e2da",
   "metadata": {},
   "source": [
    "### 1.1 Laden der Frage-Codes"
   ]
  },
  {
   "cell_type": "markdown",
   "id": "61cf035a",
   "metadata": {},
   "source": [
    "Zur besseren Verarbeitung der Datensätze werden die zugehörigen Codes der Fragen geladen und verwendet. "
   ]
  },
  {
   "cell_type": "code",
   "execution_count": 2,
   "id": "03c555cb",
   "metadata": {},
   "outputs": [],
   "source": [
    "with open('code.json', 'r') as f:\n",
    "  code_data = json.load(f)"
   ]
  },
  {
   "cell_type": "code",
   "execution_count": 3,
   "id": "8e42613e",
   "metadata": {},
   "outputs": [],
   "source": [
    "df_code = pd.DataFrame(code_data)\n",
    "codes = df_code[\"Variable\"].tolist()"
   ]
  },
  {
   "cell_type": "code",
   "execution_count": 4,
   "id": "52213d6b",
   "metadata": {},
   "outputs": [
    {
     "data": {
      "text/html": [
       "<div>\n",
       "<style scoped>\n",
       "    .dataframe tbody tr th:only-of-type {\n",
       "        vertical-align: middle;\n",
       "    }\n",
       "\n",
       "    .dataframe tbody tr th {\n",
       "        vertical-align: top;\n",
       "    }\n",
       "\n",
       "    .dataframe thead th {\n",
       "        text-align: right;\n",
       "    }\n",
       "</style>\n",
       "<table border=\"1\" class=\"dataframe\">\n",
       "  <thead>\n",
       "    <tr style=\"text-align: right;\">\n",
       "      <th></th>\n",
       "      <th>Variable</th>\n",
       "      <th>Fragetyp</th>\n",
       "      <th>Fragetext</th>\n",
       "      <th>Werte</th>\n",
       "      <th>Zeichenlimit</th>\n",
       "      <th>Wert</th>\n",
       "    </tr>\n",
       "  </thead>\n",
       "  <tbody>\n",
       "    <tr>\n",
       "      <th>0</th>\n",
       "      <td>60371597</td>\n",
       "      <td>Skalafrage</td>\n",
       "      <td>2.1 ein hohes Einkommen</td>\n",
       "      <td>{'&lt;leer&gt;': 'Ungültig / Keine Antwort', '1': 'u...</td>\n",
       "      <td>None</td>\n",
       "      <td>None</td>\n",
       "    </tr>\n",
       "    <tr>\n",
       "      <th>1</th>\n",
       "      <td>60371598</td>\n",
       "      <td>Skalafrage</td>\n",
       "      <td>2.2 gute Aufstiegsmöglichkeiten</td>\n",
       "      <td>{'&lt;leer&gt;': 'Ungültig / Keine Antwort', '1': 'u...</td>\n",
       "      <td>None</td>\n",
       "      <td>None</td>\n",
       "    </tr>\n",
       "    <tr>\n",
       "      <th>2</th>\n",
       "      <td>60371599</td>\n",
       "      <td>Skalafrage</td>\n",
       "      <td>2.3 einen sicheren Arbeitsplatz</td>\n",
       "      <td>{'&lt;leer&gt;': 'Ungültig / Keine Antwort', '1': 'u...</td>\n",
       "      <td>None</td>\n",
       "      <td>None</td>\n",
       "    </tr>\n",
       "    <tr>\n",
       "      <th>3</th>\n",
       "      <td>60371600</td>\n",
       "      <td>Skalafrage</td>\n",
       "      <td>2.4 viele Kontakte zu anderen Menschen</td>\n",
       "      <td>{'&lt;leer&gt;': 'Ungültig / Keine Antwort', '1': 'u...</td>\n",
       "      <td>None</td>\n",
       "      <td>None</td>\n",
       "    </tr>\n",
       "    <tr>\n",
       "      <th>4</th>\n",
       "      <td>60371601</td>\n",
       "      <td>Skalafrage</td>\n",
       "      <td>2.5 eine gute/kollegiale Arbeitsatmosphäre</td>\n",
       "      <td>{'&lt;leer&gt;': 'Ungültig / Keine Antwort', '1': 'u...</td>\n",
       "      <td>None</td>\n",
       "      <td>None</td>\n",
       "    </tr>\n",
       "  </tbody>\n",
       "</table>\n",
       "</div>"
      ],
      "text/plain": [
       "   Variable    Fragetyp                                   Fragetext  \\\n",
       "0  60371597  Skalafrage                     2.1 ein hohes Einkommen   \n",
       "1  60371598  Skalafrage             2.2 gute Aufstiegsmöglichkeiten   \n",
       "2  60371599  Skalafrage             2.3 einen sicheren Arbeitsplatz   \n",
       "3  60371600  Skalafrage      2.4 viele Kontakte zu anderen Menschen   \n",
       "4  60371601  Skalafrage  2.5 eine gute/kollegiale Arbeitsatmosphäre   \n",
       "\n",
       "                                               Werte Zeichenlimit  Wert  \n",
       "0  {'<leer>': 'Ungültig / Keine Antwort', '1': 'u...         None  None  \n",
       "1  {'<leer>': 'Ungültig / Keine Antwort', '1': 'u...         None  None  \n",
       "2  {'<leer>': 'Ungültig / Keine Antwort', '1': 'u...         None  None  \n",
       "3  {'<leer>': 'Ungültig / Keine Antwort', '1': 'u...         None  None  \n",
       "4  {'<leer>': 'Ungültig / Keine Antwort', '1': 'u...         None  None  "
      ]
     },
     "execution_count": 4,
     "metadata": {},
     "output_type": "execute_result"
    }
   ],
   "source": [
    "df_code.head()"
   ]
  },
  {
   "cell_type": "markdown",
   "id": "8e409024",
   "metadata": {},
   "source": [
    "### 1.2 Laden der Stichproben Ergebnisse"
   ]
  },
  {
   "cell_type": "markdown",
   "id": "0951155c",
   "metadata": {},
   "source": [
    "Die Stichproben Ergebnisse werden in ein DataFrame geladen und die Spaltenüberschriften (Fragetexte) mit ihren jeweiligen Codes ersetzt."
   ]
  },
  {
   "cell_type": "code",
   "execution_count": 5,
   "id": "9243c032",
   "metadata": {},
   "outputs": [],
   "source": [
    "df_results_raw = pd.read_csv('./data/pia_master.csv', sep=\";\")"
   ]
  },
  {
   "cell_type": "code",
   "execution_count": 6,
   "id": "b7abc63e",
   "metadata": {},
   "outputs": [
    {
     "name": "stdout",
     "output_type": "stream",
     "text": [
      "53\n",
      "56\n"
     ]
    }
   ],
   "source": [
    "print(len(codes))\n",
    "print(len(df_results_raw.columns))"
   ]
  },
  {
   "cell_type": "code",
   "execution_count": 7,
   "id": "f61959ce",
   "metadata": {},
   "outputs": [
    {
     "data": {
      "text/html": [
       "<div>\n",
       "<style scoped>\n",
       "    .dataframe tbody tr th:only-of-type {\n",
       "        vertical-align: middle;\n",
       "    }\n",
       "\n",
       "    .dataframe tbody tr th {\n",
       "        vertical-align: top;\n",
       "    }\n",
       "\n",
       "    .dataframe thead th {\n",
       "        text-align: right;\n",
       "    }\n",
       "</style>\n",
       "<table border=\"1\" class=\"dataframe\">\n",
       "  <thead>\n",
       "    <tr style=\"text-align: right;\">\n",
       "      <th></th>\n",
       "      <th>Bogen</th>\n",
       "      <th>ein hohes Einkommen</th>\n",
       "      <th>gute Aufstiegsmöglichkeiten</th>\n",
       "      <th>einen sicheren Arbeitsplatz</th>\n",
       "      <th>viele Kontakte zu anderen Menschen</th>\n",
       "      <th>eine gute/kollegiale Arbeitsatmosphäre</th>\n",
       "      <th>das Gefühl, etwas zu leisten</th>\n",
       "      <th>das Gefühl, anerkannt zu werden</th>\n",
       "      <th>Möglichkeiten, sich um andere Menschen zu kümmern</th>\n",
       "      <th>Möglichkeiten, eigene Ideen einzubringen</th>\n",
       "      <th>...</th>\n",
       "      <th>an Gott glauben</th>\n",
       "      <th>die Vielfalt der Menschen anerkennen und respektieren</th>\n",
       "      <th>Bitte kreuze an, welcher Generation du zugehörig bist:</th>\n",
       "      <th>Welchem Geschlecht fühlst du dich zugehörig?</th>\n",
       "      <th>Bitte wähle deinen höchsten formalen Bildungsabschluss aus:</th>\n",
       "      <th>Bist du derzeit berufstätig?</th>\n",
       "      <th>In welcher Beschäftigungsform befindest du dich?</th>\n",
       "      <th>In welchem Wirtschaftssektor bist du beschäftigt?</th>\n",
       "      <th>Zeitstempel</th>\n",
       "      <th>Datensatz-Ursprung</th>\n",
       "    </tr>\n",
       "  </thead>\n",
       "  <tbody>\n",
       "    <tr>\n",
       "      <th>0</th>\n",
       "      <td>1</td>\n",
       "      <td>4</td>\n",
       "      <td>4</td>\n",
       "      <td>5</td>\n",
       "      <td>4</td>\n",
       "      <td>4</td>\n",
       "      <td>5</td>\n",
       "      <td>5</td>\n",
       "      <td>4</td>\n",
       "      <td>4</td>\n",
       "      <td>...</td>\n",
       "      <td>2</td>\n",
       "      <td>5</td>\n",
       "      <td>2</td>\n",
       "      <td>2.0</td>\n",
       "      <td>6</td>\n",
       "      <td>1</td>\n",
       "      <td>1.0</td>\n",
       "      <td>3.0</td>\n",
       "      <td>02.07.2023 um 17:44:14</td>\n",
       "      <td>O</td>\n",
       "    </tr>\n",
       "    <tr>\n",
       "      <th>1</th>\n",
       "      <td>2</td>\n",
       "      <td>4</td>\n",
       "      <td>5</td>\n",
       "      <td>5</td>\n",
       "      <td>5</td>\n",
       "      <td>5</td>\n",
       "      <td>4</td>\n",
       "      <td>5</td>\n",
       "      <td>4</td>\n",
       "      <td>4</td>\n",
       "      <td>...</td>\n",
       "      <td>1</td>\n",
       "      <td>5</td>\n",
       "      <td>1</td>\n",
       "      <td>2.0</td>\n",
       "      <td>6</td>\n",
       "      <td>1</td>\n",
       "      <td>1.0</td>\n",
       "      <td>2.0</td>\n",
       "      <td>02.07.2023 um 17:50:50</td>\n",
       "      <td>O</td>\n",
       "    </tr>\n",
       "    <tr>\n",
       "      <th>2</th>\n",
       "      <td>3</td>\n",
       "      <td>4</td>\n",
       "      <td>2</td>\n",
       "      <td>5</td>\n",
       "      <td>4</td>\n",
       "      <td>5</td>\n",
       "      <td>4</td>\n",
       "      <td>5</td>\n",
       "      <td>2</td>\n",
       "      <td>4</td>\n",
       "      <td>...</td>\n",
       "      <td>2</td>\n",
       "      <td>3</td>\n",
       "      <td>1</td>\n",
       "      <td>1.0</td>\n",
       "      <td>4</td>\n",
       "      <td>1</td>\n",
       "      <td>1.0</td>\n",
       "      <td>3.0</td>\n",
       "      <td>02.07.2023 um 18:55:10</td>\n",
       "      <td>M</td>\n",
       "    </tr>\n",
       "    <tr>\n",
       "      <th>3</th>\n",
       "      <td>4</td>\n",
       "      <td>5</td>\n",
       "      <td>4</td>\n",
       "      <td>5</td>\n",
       "      <td>4</td>\n",
       "      <td>4</td>\n",
       "      <td>4</td>\n",
       "      <td>4</td>\n",
       "      <td>2</td>\n",
       "      <td>3</td>\n",
       "      <td>...</td>\n",
       "      <td>1</td>\n",
       "      <td>5</td>\n",
       "      <td>1</td>\n",
       "      <td>2.0</td>\n",
       "      <td>4</td>\n",
       "      <td>1</td>\n",
       "      <td>2.0</td>\n",
       "      <td>3.0</td>\n",
       "      <td>02.07.2023 um 19:00:41</td>\n",
       "      <td>M</td>\n",
       "    </tr>\n",
       "    <tr>\n",
       "      <th>4</th>\n",
       "      <td>5</td>\n",
       "      <td>5</td>\n",
       "      <td>4</td>\n",
       "      <td>5</td>\n",
       "      <td>3</td>\n",
       "      <td>5</td>\n",
       "      <td>5</td>\n",
       "      <td>4</td>\n",
       "      <td>3</td>\n",
       "      <td>4</td>\n",
       "      <td>...</td>\n",
       "      <td>1</td>\n",
       "      <td>4</td>\n",
       "      <td>1</td>\n",
       "      <td>2.0</td>\n",
       "      <td>5</td>\n",
       "      <td>1</td>\n",
       "      <td>1.0</td>\n",
       "      <td>3.0</td>\n",
       "      <td>02.07.2023 um 19:03:32</td>\n",
       "      <td>M</td>\n",
       "    </tr>\n",
       "  </tbody>\n",
       "</table>\n",
       "<p>5 rows × 56 columns</p>\n",
       "</div>"
      ],
      "text/plain": [
       "   Bogen  ein hohes Einkommen  gute Aufstiegsmöglichkeiten  \\\n",
       "0      1                    4                            4   \n",
       "1      2                    4                            5   \n",
       "2      3                    4                            2   \n",
       "3      4                    5                            4   \n",
       "4      5                    5                            4   \n",
       "\n",
       "   einen sicheren Arbeitsplatz  viele Kontakte zu anderen Menschen   \\\n",
       "0                            5                                    4   \n",
       "1                            5                                    5   \n",
       "2                            5                                    4   \n",
       "3                            5                                    4   \n",
       "4                            5                                    3   \n",
       "\n",
       "   eine gute/kollegiale Arbeitsatmosphäre   das Gefühl, etwas zu leisten   \\\n",
       "0                                        4                              5   \n",
       "1                                        5                              4   \n",
       "2                                        5                              4   \n",
       "3                                        4                              4   \n",
       "4                                        5                              5   \n",
       "\n",
       "   das Gefühl, anerkannt zu werden   \\\n",
       "0                                 5   \n",
       "1                                 5   \n",
       "2                                 5   \n",
       "3                                 4   \n",
       "4                                 4   \n",
       "\n",
       "   Möglichkeiten, sich um andere Menschen zu kümmern  \\\n",
       "0                                                  4   \n",
       "1                                                  4   \n",
       "2                                                  2   \n",
       "3                                                  2   \n",
       "4                                                  3   \n",
       "\n",
       "   Möglichkeiten, eigene Ideen einzubringen   ...  an Gott glauben   \\\n",
       "0                                          4  ...                 2   \n",
       "1                                          4  ...                 1   \n",
       "2                                          4  ...                 2   \n",
       "3                                          3  ...                 1   \n",
       "4                                          4  ...                 1   \n",
       "\n",
       "   die Vielfalt der Menschen anerkennen und respektieren  \\\n",
       "0                                                  5       \n",
       "1                                                  5       \n",
       "2                                                  3       \n",
       "3                                                  5       \n",
       "4                                                  4       \n",
       "\n",
       "   Bitte kreuze an, welcher Generation du zugehörig bist:  \\\n",
       "0                                                  2        \n",
       "1                                                  1        \n",
       "2                                                  1        \n",
       "3                                                  1        \n",
       "4                                                  1        \n",
       "\n",
       "   Welchem Geschlecht fühlst du dich zugehörig?  \\\n",
       "0                                           2.0   \n",
       "1                                           2.0   \n",
       "2                                           1.0   \n",
       "3                                           2.0   \n",
       "4                                           2.0   \n",
       "\n",
       "  Bitte wähle deinen höchsten formalen Bildungsabschluss aus:  \\\n",
       "0                                                  6            \n",
       "1                                                  6            \n",
       "2                                                  4            \n",
       "3                                                  4            \n",
       "4                                                  5            \n",
       "\n",
       "   Bist du derzeit berufstätig?  \\\n",
       "0                             1   \n",
       "1                             1   \n",
       "2                             1   \n",
       "3                             1   \n",
       "4                             1   \n",
       "\n",
       "   In welcher Beschäftigungsform befindest du dich?   \\\n",
       "0                                                1.0   \n",
       "1                                                1.0   \n",
       "2                                                1.0   \n",
       "3                                                2.0   \n",
       "4                                                1.0   \n",
       "\n",
       "   In welchem Wirtschaftssektor bist du beschäftigt?             Zeitstempel  \\\n",
       "0                                                3.0  02.07.2023 um 17:44:14   \n",
       "1                                                2.0  02.07.2023 um 17:50:50   \n",
       "2                                                3.0  02.07.2023 um 18:55:10   \n",
       "3                                                3.0  02.07.2023 um 19:00:41   \n",
       "4                                                3.0  02.07.2023 um 19:03:32   \n",
       "\n",
       "   Datensatz-Ursprung  \n",
       "0                   O  \n",
       "1                   O  \n",
       "2                   M  \n",
       "3                   M  \n",
       "4                   M  \n",
       "\n",
       "[5 rows x 56 columns]"
      ]
     },
     "execution_count": 7,
     "metadata": {},
     "output_type": "execute_result"
    }
   ],
   "source": [
    "df_results_raw.head()"
   ]
  },
  {
   "cell_type": "markdown",
   "id": "c0bbe336",
   "metadata": {},
   "source": [
    "### 1.3. Utility Functions"
   ]
  },
  {
   "cell_type": "code",
   "execution_count": 14,
   "id": "55ed83b9",
   "metadata": {},
   "outputs": [],
   "source": [
    "def get_answer_text(question_code: str, answer_res: Union[float, int, str] = None):\n",
    "    if isinstance(answer_res, str):\n",
    "        _res = answer_res\n",
    "    else:\n",
    "        _res = int(answer_res) if answer_res != 0 else '<leer>'\n",
    "    t_code = df_code[df_code[\"Variable\"] == question_code]\n",
    "    question_type = t_code[\"Fragetyp\"].values[0]\n",
    "    assert (answer_res is not None and question_type != 'Offene Frage') or (answer_res is None and question_type == 'Offene Frage'), f\"Ungültige Antwortmöglichkeit für Fragentyp {question_type}\"\n",
    "    answer_dict = t_code[\"Werte\"].values[0]\n",
    "    out = answer_dict[str(_res)] if answer_res is not None else answer_dict\n",
    "    return out"
   ]
  },
  {
   "cell_type": "code",
   "execution_count": 15,
   "id": "873eee73",
   "metadata": {},
   "outputs": [],
   "source": [
    "def get_question_text(question_code: str):\n",
    "    return df_code[df_code[\"Variable\"] == question_code][\"Fragetext\"].values[0]"
   ]
  },
  {
   "cell_type": "markdown",
   "id": "4dbd3982",
   "metadata": {},
   "source": [
    "### 1.4 Gliederung der Fragetypen"
   ]
  },
  {
   "cell_type": "markdown",
   "id": "ca754c42",
   "metadata": {},
   "source": [
    "Die Umfrage enthält 3 Fragetypen.\n",
    "- Skalafragen - Antwortmöglichkeiten werden mittels kategorischen numerischen Werten auf einer Ordinalskala dargestellt.\n",
    "- 1 aus n - Antwortmöglichkeiten werden mittels kategorischen numerischen Werten auf einer Nominalskala dargestellt.\n",
    "- Offene Frage - Antwort besteht aus einem Freitext"
   ]
  },
  {
   "cell_type": "code",
   "execution_count": 10,
   "id": "52a8370f",
   "metadata": {},
   "outputs": [],
   "source": [
    "skala_ids = df_code[df_code[\"Fragetyp\"] == \"Skalafrage\"][\"Variable\"].tolist()\n",
    "one_of_n_ids = df_code[df_code[\"Fragetyp\"] == \"1 aus n\"][\"Variable\"].tolist()\n",
    "numeric_ids = skala_ids + one_of_n_ids\n",
    "open_q_ids = df_code[df_code[\"Fragetyp\"] == \"Offene Frage\"][\"Variable\"].tolist()"
   ]
  },
  {
   "cell_type": "markdown",
   "id": "d95569d8",
   "metadata": {},
   "source": [
    "Neben den fachlichen Fragen der Umfrage, gibt es auch Fragetypen, welche zur Klassifierung der Umfrage Ergebnisse dienen.\n",
    "- Bitte kreuze an, welcher Generation du zugehörig bist\n",
    "- Welchem Geschlecht fühlst du dich zugehörig?\n",
    "- Bitte wähle deinen höchsten formalen Bildungsabschluss aus:\n",
    "- Bist du derzeit berufstätig?\n",
    "- In welcher Beschäftigungsform befindest du dich?\n",
    "- In welchem Wirtschaftssektor bist du beschäftigt?"
   ]
  },
  {
   "cell_type": "code",
   "execution_count": 11,
   "id": "0237b46b",
   "metadata": {},
   "outputs": [],
   "source": [
    "generation_col = '60371649'\n",
    "gender_col = '60371650'\n",
    "academic_col = '60371651'\n",
    "working_col = '60371652'\n",
    "work_form_col = '60371653'\n",
    "economic_sector_col = '60371654'"
   ]
  },
  {
   "cell_type": "code",
   "execution_count": 12,
   "id": "dcc21f8c",
   "metadata": {},
   "outputs": [
    {
     "name": "stdout",
     "output_type": "stream",
     "text": [
      "['60371597', '60371598', '60371599', '60371600', '60371601', '60371602', '60371603', '60371604', '60371605', '60371606', '60371607', '60371608', '60371609', '60371615', '60371616', '60371617', '60371618', '60371619', '60371620', '60371624', '60371625', '60371626', '60371627', '60371628', '60371629', '60371630', '60371631', '60371632', '60371633', '60371634', '60371635', '60371636', '60371637', '60371638', '60371639', '60371640', '60371641', '60371642', '60371643', '60371644', '60371645', '60371646', '60371647', '60371648']\n",
      "['60371613', '60371614']\n"
     ]
    }
   ],
   "source": [
    "skala_fach_ids = [x for x in skala_ids if int(x) <= 60371648]\n",
    "one_of_n_fach_ids = [x for x in one_of_n_ids if int(x) <= 60371648]\n",
    "num_fach_cols = skala_fach_ids + one_of_n_fach_ids\n",
    "\n",
    "print(skala_fach_ids)\n",
    "print(one_of_n_fach_ids)"
   ]
  },
  {
   "cell_type": "code",
   "execution_count": 16,
   "id": "310da936",
   "metadata": {},
   "outputs": [
    {
     "name": "stdout",
     "output_type": "stream",
     "text": [
      "60371597: 2.1 ein hohes Einkommen\n",
      "60371598: 2.2 gute Aufstiegsmöglichkeiten\n",
      "60371599: 2.3 einen sicheren Arbeitsplatz\n",
      "60371600: 2.4 viele Kontakte zu anderen Menschen\n",
      "60371601: 2.5 eine gute/kollegiale Arbeitsatmosphäre\n",
      "60371602: 2.6 das Gefühl, etwas zu leisten\n",
      "60371603: 2.7 das Gefühl, anerkannt zu werden\n",
      "60371604: 2.8 Möglichkeiten, sich um andere Menschen zu kümmern\n",
      "60371605: 2.9 Möglichkeiten, eigene Ideen einzubringen\n",
      "60371606: 2.10 Möglichkeiten, etwas Nützliches für die Gesellschaft zu tun\n",
      "60371607: 2.11 die Möglichkeit, etwas zu tun, das ich sinnvoll ﬁnde\n",
      "60371608: 2.12 genügend Freizeit neben der Berufstätigkeit\n",
      "60371609: 2.13 Flexible Arbeitszeiten (z.B. Home-Ofﬁce oder Gleitzeit)\n",
      "60371615: 4.1 Größe des Unternehmens\n",
      "60371616: 4.2 Ruf des Unternehmens\n",
      "60371617: 4.3 Standort des Unternehmens\n",
      "60371618: 4.4 Bereitstellung neuster Technologien am Arbeitsplatz\n",
      "60371619: 4.5 Flache Hierarchien (auf Augenhöhe miteinander arbeiten)\n",
      "60371620: 4.6 Nachhaltigkeit  Corporate Social Responsibility *\n",
      "60371624: 5.1 Gesetz und Ordnung respektieren\n",
      "60371625: 5.2 einen hohen Lebensstandard haben\n",
      "60371626: 5.3 Macht und Einﬂuss haben\n",
      "60371627: 5.4 seine eigene Phantasie und Kreativität entwickeln\n",
      "60371628: 5.5 nach Sicherheit streben\n",
      "60371629: 5.6 sozial Benachteiligten und gesellschaftlichen Randgruppen helfen\n",
      "60371630: 5.7 sich und seine Bedürfnisse gegen andere durchsetzen\n",
      "60371631: 5.8 ﬂeißig und ehrgeizig sein\n",
      "60371632: 5.9 auch solche Meinungen tolerieren, denen man eigentlich nicht zustimmen kann\n",
      "60371633: 5.10 sich politisch engagieren\n",
      "60371634: 5.11 das Leben in vollen Zügen genießen\n",
      "60371635: 5.12 eigenverantwortlich leben und handeln\n",
      "60371636: 5.13 das tun, was die anderen auch tun\n",
      "60371637: 5.14 am Althergebrachten festhalten\n",
      "60371638: 5.15 ein gutes Familienleben führen\n",
      "60371639: 5.16 stolz sein auf die deutsche Geschichte\n",
      "60371640: 5.17 einen Partner haben, dem man vertrauen kann\n",
      "60371641: 5.18 gute Freunde haben, die einen anerkennen und akzeptieren\n",
      "60371642: 5.19 viele Kontakte zu anderen Menschen haben\n",
      "60371643: 5.20 gesundheitsbewusst leben\n",
      "60371644: 5.21 sich bei seinen Entscheidungen auch von seinen Gefühlen leiten lassen\n",
      "60371645: 5.22 von anderen Menschen unabhängig sein\n",
      "60371646: 5.23 sich unter allen Umständen umweltbewusst verhalten\n",
      "60371647: 5.24 an Gott glauben\n",
      "60371648: 5.25 die Vielfalt der Menschen anerkennen und respektieren\n",
      "60371613: 3.1 Welches der Kriterien ist für dich am wichtigsten?\n",
      "60371614: 3.2 Welches der Kriterien ist für dich am wenigsten wichtig?\n"
     ]
    }
   ],
   "source": [
    "for col in num_fach_cols:\n",
    "    print(f\"{col}: {get_question_text(col)}\")"
   ]
  },
  {
   "cell_type": "code",
   "execution_count": 17,
   "id": "2c7ba112",
   "metadata": {},
   "outputs": [
    {
     "name": "stdout",
     "output_type": "stream",
     "text": [
      "['60371597', '60371598', '60371599', '60371600', '60371601', '60371602', '60371603', '60371604', '60371605', '60371606', '60371607', '60371608', '60371609', '60371615', '60371616', '60371617', '60371618', '60371619', '60371620']\n"
     ]
    }
   ],
   "source": [
    "erwartungen_ids = [x for x in codes if 60371597 <= int(x) and int(x) <= 60371609] + [x for x in codes if 60371615 <= int(x) and int(x) <= 60371620]\n",
    "print(erwartungen_ids)"
   ]
  },
  {
   "cell_type": "code",
   "execution_count": 18,
   "id": "45d91380",
   "metadata": {},
   "outputs": [
    {
     "name": "stdout",
     "output_type": "stream",
     "text": [
      "['60371624', '60371625', '60371626', '60371627', '60371628', '60371629', '60371630', '60371631', '60371632', '60371633', '60371634', '60371635', '60371636', '60371637', '60371638', '60371639', '60371640', '60371641', '60371642', '60371643', '60371644', '60371645', '60371646', '60371647', '60371648']\n"
     ]
    }
   ],
   "source": [
    "werte_ids = [x for x in codes if 60371624 <= int(x) and int(x) <= 60371648]\n",
    "print(werte_ids)"
   ]
  },
  {
   "cell_type": "markdown",
   "id": "e822ab73",
   "metadata": {},
   "source": [
    "## 2. Pre Processing"
   ]
  },
  {
   "cell_type": "markdown",
   "id": "424946d3",
   "metadata": {},
   "source": [
    "Bevor wir mit der Analyse der Umfrageergebnisse starten können, müssen einige Pre Processing Schritte vollzogen werden, um die Daten fachlich aufzubereiten.\n",
    "\n",
    "Punkte die dabei beachtet werden müssen sind:\n",
    "- Behandlung von fehlenden/falschen Werten\n",
    "- Standarisierung der Ergeniss-Typen"
   ]
  },
  {
   "cell_type": "markdown",
   "id": "70cd65c9",
   "metadata": {},
   "source": [
    "Im ersten Schritte werden ungültige Werte ausgewertet."
   ]
  },
  {
   "cell_type": "code",
   "execution_count": 19,
   "id": "88778599",
   "metadata": {},
   "outputs": [
    {
     "data": {
      "text/plain": [
       "<Axes: >"
      ]
     },
     "execution_count": 19,
     "metadata": {},
     "output_type": "execute_result"
    },
    {
     "data": {
      "image/png": "[encoded data removed]",
      "text/plain": [
       "<Figure size 2500x1000 with 2 Axes>"
      ]
     },
     "metadata": {},
     "output_type": "display_data"
    }
   ],
   "source": [
    "msno.matrix(df_results)"
   ]
  },
  {
   "cell_type": "code",
   "execution_count": 20,
   "id": "e9ea3ce0",
   "metadata": {},
   "outputs": [
    {
     "data": {
      "text/html": [
       "<div>\n",
       "<style scoped>\n",
       "    .dataframe tbody tr th:only-of-type {\n",
       "        vertical-align: middle;\n",
       "    }\n",
       "\n",
       "    .dataframe tbody tr th {\n",
       "        vertical-align: top;\n",
       "    }\n",
       "\n",
       "    .dataframe thead th {\n",
       "        text-align: right;\n",
       "    }\n",
       "</style>\n",
       "<table border=\"1\" class=\"dataframe\">\n",
       "  <thead>\n",
       "    <tr style=\"text-align: right;\">\n",
       "      <th>col_0</th>\n",
       "      <th>60371651</th>\n",
       "    </tr>\n",
       "    <tr>\n",
       "      <th>60371649</th>\n",
       "      <th></th>\n",
       "    </tr>\n",
       "  </thead>\n",
       "  <tbody>\n",
       "    <tr>\n",
       "      <th>1</th>\n",
       "      <td>109</td>\n",
       "    </tr>\n",
       "    <tr>\n",
       "      <th>2</th>\n",
       "      <td>96</td>\n",
       "    </tr>\n",
       "    <tr>\n",
       "      <th>3</th>\n",
       "      <td>22</td>\n",
       "    </tr>\n",
       "  </tbody>\n",
       "</table>\n",
       "</div>"
      ],
      "text/plain": [
       "col_0     60371651\n",
       "60371649          \n",
       "1              109\n",
       "2               96\n",
       "3               22"
      ]
     },
     "execution_count": 20,
     "metadata": {},
     "output_type": "execute_result"
    }
   ],
   "source": [
    "pd.crosstab(index=df_results[generation_col], columns=[academic_col])"
   ]
  },
  {
   "cell_type": "markdown",
   "id": "863e515d",
   "metadata": {},
   "source": [
    "Im weiteren Verlauf werden nur noch die Generationen Y und Z verglichen. Die restlichen Generationen werden aussortiert."
   ]
  },
  {
   "cell_type": "code",
   "execution_count": 21,
   "id": "31533b47",
   "metadata": {},
   "outputs": [],
   "source": [
    "df_yz = df_results[df_results['60371649'] != 3]"
   ]
  },
  {
   "cell_type": "code",
   "execution_count": 22,
   "id": "4f4e7fde",
   "metadata": {},
   "outputs": [
    {
     "name": "stdout",
     "output_type": "stream",
     "text": [
      "<class 'pandas.core.frame.DataFrame'>\n",
      "Index: 205 entries, 0 to 226\n",
      "Data columns (total 56 columns):\n",
      " #   Column              Non-Null Count  Dtype  \n",
      "---  ------              --------------  -----  \n",
      " 0   Bogen               205 non-null    int64  \n",
      " 1   60371597            205 non-null    int64  \n",
      " 2   60371598            205 non-null    int64  \n",
      " 3   60371599            205 non-null    int64  \n",
      " 4   60371600            205 non-null    int64  \n",
      " 5   60371601            205 non-null    int64  \n",
      " 6   60371602            205 non-null    int64  \n",
      " 7   60371603            205 non-null    int64  \n",
      " 8   60371604            205 non-null    int64  \n",
      " 9   60371605            205 non-null    int64  \n",
      " 10  60371606            205 non-null    int64  \n",
      " 11  60371607            205 non-null    int64  \n",
      " 12  60371608            205 non-null    float64\n",
      " 13  60371609            205 non-null    int64  \n",
      " 14  60371612            205 non-null    object \n",
      " 15  60371613            205 non-null    int64  \n",
      " 16  60371614            205 non-null    int64  \n",
      " 17  60371615            205 non-null    int64  \n",
      " 18  60371616            205 non-null    int64  \n",
      " 19  60371617            205 non-null    int64  \n",
      " 20  60371618            205 non-null    int64  \n",
      " 21  60371619            205 non-null    int64  \n",
      " 22  60371620            205 non-null    int64  \n",
      " 23  60371624            205 non-null    int64  \n",
      " 24  60371625            205 non-null    int64  \n",
      " 25  60371626            205 non-null    int64  \n",
      " 26  60371627            205 non-null    int64  \n",
      " 27  60371628            205 non-null    float64\n",
      " 28  60371629            205 non-null    int64  \n",
      " 29  60371630            205 non-null    int64  \n",
      " 30  60371631            205 non-null    int64  \n",
      " 31  60371632            204 non-null    float64\n",
      " 32  60371633            205 non-null    int64  \n",
      " 33  60371634            205 non-null    int64  \n",
      " 34  60371635            205 non-null    int64  \n",
      " 35  60371636            205 non-null    int64  \n",
      " 36  60371637            205 non-null    float64\n",
      " 37  60371638            205 non-null    int64  \n",
      " 38  60371639            205 non-null    float64\n",
      " 39  60371640            205 non-null    int64  \n",
      " 40  60371641            204 non-null    float64\n",
      " 41  60371642            205 non-null    int64  \n",
      " 42  60371643            205 non-null    int64  \n",
      " 43  60371644            203 non-null    float64\n",
      " 44  60371645            205 non-null    int64  \n",
      " 45  60371646            205 non-null    float64\n",
      " 46  60371647            205 non-null    int64  \n",
      " 47  60371648            205 non-null    int64  \n",
      " 48  60371649            205 non-null    int64  \n",
      " 49  60371650            204 non-null    float64\n",
      " 50  60371651            205 non-null    int64  \n",
      " 51  60371652            205 non-null    int64  \n",
      " 52  60371653            184 non-null    float64\n",
      " 53  60371654            182 non-null    float64\n",
      " 54  Zeitstempel         205 non-null    object \n",
      " 55  Datensatz-Ursprung  205 non-null    object \n",
      "dtypes: float64(11), int64(42), object(3)\n",
      "memory usage: 91.3+ KB\n"
     ]
    }
   ],
   "source": [
    "df_yz.info()"
   ]
  },
  {
   "cell_type": "markdown",
   "id": "46afccfa",
   "metadata": {},
   "source": [
    "Wir betrachten die fehlenden Werte genauer, um zu entscheiden, wie wir mit diesen Werten umgehen möchten."
   ]
  },
  {
   "cell_type": "code",
   "execution_count": 23,
   "id": "15d300ec",
   "metadata": {},
   "outputs": [
    {
     "data": {
      "text/plain": [
       "<Axes: >"
      ]
     },
     "execution_count": 23,
     "metadata": {},
     "output_type": "execute_result"
    },
    {
     "data": {
      "image/png": "[encoded data removed]",
      "text/plain": [
       "<Figure size 2500x1000 with 2 Axes>"
      ]
     },
     "metadata": {},
     "output_type": "display_data"
    }
   ],
   "source": [
    "msno.matrix(df_yz)"
   ]
  },
  {
   "cell_type": "markdown",
   "id": "354be03e",
   "metadata": {},
   "source": [
    "Wir können feststellen, dass die meisten fehlenden Werte in den Fragen 60371653 und 60371653 vorkommen. Ansonten existieren so gut wie keine fehlenden Werte. Da es sich bei den Fragen 60371653 und 60371653 um Fragen zur Einordung der Befragten handelt. Füllen wir diese Werte mit 0 auf. Außerdem bereinigen wir unseren Datensatz, indem wir die restlichen Stichproben mit fehlenden Daten entfernen."
   ]
  },
  {
   "cell_type": "code",
   "execution_count": 25,
   "id": "4c4a5418",
   "metadata": {},
   "outputs": [],
   "source": [
    "df_yz = df_yz.dropna(subset=['60371632', '60371641', '60371644', '60371650'])\n",
    "df_yz.fillna(0, inplace=True)\n",
    "df_yz[skala_ids] = df_yz[skala_ids].applymap(np.int64)"
   ]
  },
  {
   "cell_type": "markdown",
   "id": "38fafa3b",
   "metadata": {},
   "source": [
    "Das einfache Pre Processing der Daten ist damit abgeschlossen. Die aufbereiteten speichern wir in einem parquet File ab. Zur einfacherern Weiterverarbeitung kann dieser Datensatz geladen werden"
   ]
  },
  {
   "cell_type": "code",
   "execution_count": 26,
   "id": "03aa6dd5",
   "metadata": {},
   "outputs": [],
   "source": [
    "table_yz = pa.Table.from_pandas(df_yz)\n",
    "pq.write_table(table_yz, 'results_preprocessed.parquet')"
   ]
  },
  {
   "cell_type": "code",
   "execution_count": null,
   "id": "1dbfba61",
   "metadata": {},
   "outputs": [],
   "source": []
  },
  {
   "cell_type": "code",
   "execution_count": null,
   "id": "98670a77",
   "metadata": {},
   "outputs": [],
   "source": []
  },
  {
   "cell_type": "code",
   "execution_count": null,
   "id": "60e2913f",
   "metadata": {},
   "outputs": [],
   "source": []
  }
 ],
 "metadata": {
  "kernelspec": {
   "display_name": "Python 3 (ipykernel)",
   "language": "python",
   "name": "python3"
  },
  "language_info": {
   "codemirror_mode": {
    "name": "ipython",
    "version": 3
   },
   "file_extension": ".py",
   "mimetype": "text/x-python",
   "name": "python",
   "nbconvert_exporter": "python",
   "pygments_lexer": "ipython3",
   "version": "3.10.2"
  }
 },
 "nbformat": 4,
 "nbformat_minor": 5
}
